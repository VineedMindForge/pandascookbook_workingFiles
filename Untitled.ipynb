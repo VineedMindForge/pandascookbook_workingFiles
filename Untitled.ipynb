{
 "cells": [
  {
   "cell_type": "code",
   "execution_count": 2,
   "id": "9092bbd3",
   "metadata": {},
   "outputs": [],
   "source": [
    "import pandas as pd\n",
    "import numpy as np\n",
    "import matplotlib.pyplot as plt\n"
   ]
  },
  {
   "cell_type": "code",
   "execution_count": 3,
   "id": "86d620f6",
   "metadata": {},
   "outputs": [],
   "source": [
    "import qgrid"
   ]
  },
  {
   "cell_type": "markdown",
   "id": "cd8aae89",
   "metadata": {},
   "source": [
    "# dateindex"
   ]
  },
  {
   "cell_type": "code",
   "execution_count": 4,
   "id": "deac3b4f",
   "metadata": {},
   "outputs": [
    {
     "data": {
      "text/html": [
       "<div>\n",
       "<style scoped>\n",
       "    .dataframe tbody tr th:only-of-type {\n",
       "        vertical-align: middle;\n",
       "    }\n",
       "\n",
       "    .dataframe tbody tr th {\n",
       "        vertical-align: top;\n",
       "    }\n",
       "\n",
       "    .dataframe thead th {\n",
       "        text-align: right;\n",
       "    }\n",
       "</style>\n",
       "<table border=\"1\" class=\"dataframe\">\n",
       "  <thead>\n",
       "    <tr style=\"text-align: right;\">\n",
       "      <th></th>\n",
       "      <th>Open</th>\n",
       "      <th>High</th>\n",
       "      <th>Low</th>\n",
       "      <th>Close</th>\n",
       "      <th>Adj Close</th>\n",
       "      <th>Volume</th>\n",
       "    </tr>\n",
       "    <tr>\n",
       "      <th>Date</th>\n",
       "      <th></th>\n",
       "      <th></th>\n",
       "      <th></th>\n",
       "      <th></th>\n",
       "      <th></th>\n",
       "      <th></th>\n",
       "    </tr>\n",
       "  </thead>\n",
       "  <tbody>\n",
       "    <tr>\n",
       "      <th>2023-05-01</th>\n",
       "      <td>169.279999</td>\n",
       "      <td>170.449997</td>\n",
       "      <td>168.639999</td>\n",
       "      <td>169.589996</td>\n",
       "      <td>169.589996</td>\n",
       "      <td>52472900</td>\n",
       "    </tr>\n",
       "    <tr>\n",
       "      <th>2023-05-02</th>\n",
       "      <td>170.089996</td>\n",
       "      <td>170.350006</td>\n",
       "      <td>167.539993</td>\n",
       "      <td>168.539993</td>\n",
       "      <td>168.539993</td>\n",
       "      <td>48425700</td>\n",
       "    </tr>\n",
       "    <tr>\n",
       "      <th>2023-05-03</th>\n",
       "      <td>169.500000</td>\n",
       "      <td>170.919998</td>\n",
       "      <td>167.160004</td>\n",
       "      <td>167.449997</td>\n",
       "      <td>167.449997</td>\n",
       "      <td>65136000</td>\n",
       "    </tr>\n",
       "    <tr>\n",
       "      <th>2023-05-04</th>\n",
       "      <td>164.889999</td>\n",
       "      <td>167.039993</td>\n",
       "      <td>164.309998</td>\n",
       "      <td>165.789993</td>\n",
       "      <td>165.789993</td>\n",
       "      <td>81235400</td>\n",
       "    </tr>\n",
       "    <tr>\n",
       "      <th>2023-05-05</th>\n",
       "      <td>170.979996</td>\n",
       "      <td>174.300003</td>\n",
       "      <td>170.759995</td>\n",
       "      <td>173.570007</td>\n",
       "      <td>173.570007</td>\n",
       "      <td>113316400</td>\n",
       "    </tr>\n",
       "  </tbody>\n",
       "</table>\n",
       "</div>"
      ],
      "text/plain": [
       "                  Open        High         Low       Close   Adj Close  \\\n",
       "Date                                                                     \n",
       "2023-05-01  169.279999  170.449997  168.639999  169.589996  169.589996   \n",
       "2023-05-02  170.089996  170.350006  167.539993  168.539993  168.539993   \n",
       "2023-05-03  169.500000  170.919998  167.160004  167.449997  167.449997   \n",
       "2023-05-04  164.889999  167.039993  164.309998  165.789993  165.789993   \n",
       "2023-05-05  170.979996  174.300003  170.759995  173.570007  173.570007   \n",
       "\n",
       "               Volume  \n",
       "Date                   \n",
       "2023-05-01   52472900  \n",
       "2023-05-02   48425700  \n",
       "2023-05-03   65136000  \n",
       "2023-05-04   81235400  \n",
       "2023-05-05  113316400  "
      ]
     },
     "execution_count": 4,
     "metadata": {},
     "output_type": "execute_result"
    }
   ],
   "source": [
    "df = pd.read_csv(\"AAPL.csv\", parse_dates=['Date'], index_col='Date')\n",
    "df.tail()"
   ]
  },
  {
   "cell_type": "code",
   "execution_count": 8,
   "id": "033447c3",
   "metadata": {},
   "outputs": [
    {
     "data": {
      "application/vnd.jupyter.widget-view+json": {
       "model_id": "910ed94d01fa46e48730d2c49befbcb0",
       "version_major": 2,
       "version_minor": 0
      },
      "text/plain": [
       "QgridWidget(grid_options={'fullWidthRows': True, 'syncColumnCellResize': True, 'forceFitColumns': True, 'defau…"
      ]
     },
     "metadata": {},
     "output_type": "display_data"
    }
   ],
   "source": [
    "qgrid_widget = qgrid.show_grid(df,show_toolbar=True)\n",
    "qgrid_widget"
   ]
  },
  {
   "cell_type": "code",
   "execution_count": null,
   "id": "768043f4",
   "metadata": {},
   "outputs": [],
   "source": []
  },
  {
   "cell_type": "code",
   "execution_count": 3,
   "id": "bcd790d2",
   "metadata": {},
   "outputs": [
    {
     "data": {
      "text/html": [
       "<div>\n",
       "<style scoped>\n",
       "    .dataframe tbody tr th:only-of-type {\n",
       "        vertical-align: middle;\n",
       "    }\n",
       "\n",
       "    .dataframe tbody tr th {\n",
       "        vertical-align: top;\n",
       "    }\n",
       "\n",
       "    .dataframe thead th {\n",
       "        text-align: right;\n",
       "    }\n",
       "</style>\n",
       "<table border=\"1\" class=\"dataframe\">\n",
       "  <thead>\n",
       "    <tr style=\"text-align: right;\">\n",
       "      <th></th>\n",
       "      <th>Open</th>\n",
       "      <th>High</th>\n",
       "      <th>Low</th>\n",
       "      <th>Close</th>\n",
       "      <th>Adj Close</th>\n",
       "      <th>Volume</th>\n",
       "    </tr>\n",
       "    <tr>\n",
       "      <th>Date</th>\n",
       "      <th></th>\n",
       "      <th></th>\n",
       "      <th></th>\n",
       "      <th></th>\n",
       "      <th></th>\n",
       "      <th></th>\n",
       "    </tr>\n",
       "  </thead>\n",
       "  <tbody>\n",
       "    <tr>\n",
       "      <th>2022-05-06</th>\n",
       "      <td>156.009995</td>\n",
       "      <td>159.440002</td>\n",
       "      <td>154.179993</td>\n",
       "      <td>157.279999</td>\n",
       "      <td>156.562668</td>\n",
       "      <td>116124600</td>\n",
       "    </tr>\n",
       "    <tr>\n",
       "      <th>2022-05-09</th>\n",
       "      <td>154.929993</td>\n",
       "      <td>155.830002</td>\n",
       "      <td>151.490005</td>\n",
       "      <td>152.059998</td>\n",
       "      <td>151.366486</td>\n",
       "      <td>131577900</td>\n",
       "    </tr>\n",
       "    <tr>\n",
       "      <th>2022-05-10</th>\n",
       "      <td>155.520004</td>\n",
       "      <td>156.740005</td>\n",
       "      <td>152.929993</td>\n",
       "      <td>154.509995</td>\n",
       "      <td>153.805298</td>\n",
       "      <td>115366700</td>\n",
       "    </tr>\n",
       "    <tr>\n",
       "      <th>2022-05-11</th>\n",
       "      <td>153.500000</td>\n",
       "      <td>155.449997</td>\n",
       "      <td>145.809998</td>\n",
       "      <td>146.500000</td>\n",
       "      <td>145.831848</td>\n",
       "      <td>142689800</td>\n",
       "    </tr>\n",
       "    <tr>\n",
       "      <th>2022-05-12</th>\n",
       "      <td>142.770004</td>\n",
       "      <td>146.199997</td>\n",
       "      <td>138.800003</td>\n",
       "      <td>142.559998</td>\n",
       "      <td>141.909805</td>\n",
       "      <td>182602000</td>\n",
       "    </tr>\n",
       "    <tr>\n",
       "      <th>...</th>\n",
       "      <td>...</td>\n",
       "      <td>...</td>\n",
       "      <td>...</td>\n",
       "      <td>...</td>\n",
       "      <td>...</td>\n",
       "      <td>...</td>\n",
       "    </tr>\n",
       "    <tr>\n",
       "      <th>2023-01-25</th>\n",
       "      <td>140.889999</td>\n",
       "      <td>142.429993</td>\n",
       "      <td>138.809998</td>\n",
       "      <td>141.860001</td>\n",
       "      <td>141.643738</td>\n",
       "      <td>65799300</td>\n",
       "    </tr>\n",
       "    <tr>\n",
       "      <th>2023-01-26</th>\n",
       "      <td>143.169998</td>\n",
       "      <td>144.250000</td>\n",
       "      <td>141.899994</td>\n",
       "      <td>143.960007</td>\n",
       "      <td>143.740540</td>\n",
       "      <td>54105100</td>\n",
       "    </tr>\n",
       "    <tr>\n",
       "      <th>2023-01-27</th>\n",
       "      <td>143.160004</td>\n",
       "      <td>147.229996</td>\n",
       "      <td>143.080002</td>\n",
       "      <td>145.929993</td>\n",
       "      <td>145.707520</td>\n",
       "      <td>70555800</td>\n",
       "    </tr>\n",
       "    <tr>\n",
       "      <th>2023-01-30</th>\n",
       "      <td>144.960007</td>\n",
       "      <td>145.550003</td>\n",
       "      <td>142.850006</td>\n",
       "      <td>143.000000</td>\n",
       "      <td>142.781998</td>\n",
       "      <td>64015300</td>\n",
       "    </tr>\n",
       "    <tr>\n",
       "      <th>2023-01-31</th>\n",
       "      <td>142.699997</td>\n",
       "      <td>144.339996</td>\n",
       "      <td>142.279999</td>\n",
       "      <td>144.289993</td>\n",
       "      <td>144.070023</td>\n",
       "      <td>65874500</td>\n",
       "    </tr>\n",
       "  </tbody>\n",
       "</table>\n",
       "<p>185 rows × 6 columns</p>\n",
       "</div>"
      ],
      "text/plain": [
       "                  Open        High         Low       Close   Adj Close  \\\n",
       "Date                                                                     \n",
       "2022-05-06  156.009995  159.440002  154.179993  157.279999  156.562668   \n",
       "2022-05-09  154.929993  155.830002  151.490005  152.059998  151.366486   \n",
       "2022-05-10  155.520004  156.740005  152.929993  154.509995  153.805298   \n",
       "2022-05-11  153.500000  155.449997  145.809998  146.500000  145.831848   \n",
       "2022-05-12  142.770004  146.199997  138.800003  142.559998  141.909805   \n",
       "...                ...         ...         ...         ...         ...   \n",
       "2023-01-25  140.889999  142.429993  138.809998  141.860001  141.643738   \n",
       "2023-01-26  143.169998  144.250000  141.899994  143.960007  143.740540   \n",
       "2023-01-27  143.160004  147.229996  143.080002  145.929993  145.707520   \n",
       "2023-01-30  144.960007  145.550003  142.850006  143.000000  142.781998   \n",
       "2023-01-31  142.699997  144.339996  142.279999  144.289993  144.070023   \n",
       "\n",
       "               Volume  \n",
       "Date                   \n",
       "2022-05-06  116124600  \n",
       "2022-05-09  131577900  \n",
       "2022-05-10  115366700  \n",
       "2022-05-11  142689800  \n",
       "2022-05-12  182602000  \n",
       "...               ...  \n",
       "2023-01-25   65799300  \n",
       "2023-01-26   54105100  \n",
       "2023-01-27   70555800  \n",
       "2023-01-30   64015300  \n",
       "2023-01-31   65874500  \n",
       "\n",
       "[185 rows x 6 columns]"
      ]
     },
     "execution_count": 3,
     "metadata": {},
     "output_type": "execute_result"
    }
   ],
   "source": [
    "df.loc['2022':'2023-01']"
   ]
  },
  {
   "cell_type": "markdown",
   "id": "f738e228",
   "metadata": {},
   "source": [
    "# Resampling"
   ]
  },
  {
   "cell_type": "code",
   "execution_count": 4,
   "id": "72be7717",
   "metadata": {},
   "outputs": [
    {
     "data": {
      "text/plain": [
       "Date\n",
       "2022-05-31    145.694706\n",
       "2022-06-30    139.798573\n",
       "2022-07-31    149.670499\n",
       "2022-08-31    166.885218\n",
       "2022-09-30    153.002856\n",
       "2022-10-31    145.013333\n",
       "2022-11-30    145.843331\n",
       "2022-12-31    137.876667\n",
       "2023-01-31    135.778999\n",
       "2023-02-28    150.968421\n",
       "2023-03-31    154.964782\n",
       "2023-04-30    165.045790\n",
       "2023-05-31    168.987997\n",
       "Freq: M, Name: Close, dtype: float64"
      ]
     },
     "execution_count": 4,
     "metadata": {},
     "output_type": "execute_result"
    }
   ],
   "source": [
    "df.Close.resample(\"M\").mean()"
   ]
  },
  {
   "cell_type": "code",
   "execution_count": 5,
   "id": "0f53e566",
   "metadata": {},
   "outputs": [
    {
     "data": {
      "text/plain": [
       "<AxesSubplot:xlabel='Date'>"
      ]
     },
     "execution_count": 5,
     "metadata": {},
     "output_type": "execute_result"
    },
    {
     "data": {
      "image/png": "[encoded data removed]",
      "text/plain": [
       "<Figure size 640x480 with 1 Axes>"
      ]
     },
     "metadata": {},
     "output_type": "display_data"
    }
   ],
   "source": [
    "df.Close.resample(\"M\").mean().plot()"
   ]
  },
  {
   "cell_type": "code",
   "execution_count": 6,
   "id": "dcb89003",
   "metadata": {
    "scrolled": true
   },
   "outputs": [
    {
     "data": {
      "text/html": [
       "<div>\n",
       "<style scoped>\n",
       "    .dataframe tbody tr th:only-of-type {\n",
       "        vertical-align: middle;\n",
       "    }\n",
       "\n",
       "    .dataframe tbody tr th {\n",
       "        vertical-align: top;\n",
       "    }\n",
       "\n",
       "    .dataframe thead th {\n",
       "        text-align: right;\n",
       "    }\n",
       "</style>\n",
       "<table border=\"1\" class=\"dataframe\">\n",
       "  <thead>\n",
       "    <tr style=\"text-align: right;\">\n",
       "      <th></th>\n",
       "      <th>Open</th>\n",
       "      <th>High</th>\n",
       "      <th>Low</th>\n",
       "      <th>Close</th>\n",
       "      <th>Adj Close</th>\n",
       "    </tr>\n",
       "    <tr>\n",
       "      <th>Date</th>\n",
       "      <th></th>\n",
       "      <th></th>\n",
       "      <th></th>\n",
       "      <th></th>\n",
       "      <th></th>\n",
       "    </tr>\n",
       "  </thead>\n",
       "  <tbody>\n",
       "    <tr>\n",
       "      <th>2022-05-08</th>\n",
       "      <td>156.009995</td>\n",
       "      <td>159.440002</td>\n",
       "      <td>154.179993</td>\n",
       "      <td>157.279999</td>\n",
       "      <td>156.562668</td>\n",
       "    </tr>\n",
       "    <tr>\n",
       "      <th>2022-05-15</th>\n",
       "      <td>155.520004</td>\n",
       "      <td>156.740005</td>\n",
       "      <td>152.929993</td>\n",
       "      <td>154.509995</td>\n",
       "      <td>153.805298</td>\n",
       "    </tr>\n",
       "    <tr>\n",
       "      <th>2022-05-22</th>\n",
       "      <td>148.860001</td>\n",
       "      <td>149.770004</td>\n",
       "      <td>146.679993</td>\n",
       "      <td>149.240005</td>\n",
       "      <td>148.559341</td>\n",
       "    </tr>\n",
       "    <tr>\n",
       "      <th>2022-05-29</th>\n",
       "      <td>145.389999</td>\n",
       "      <td>149.679993</td>\n",
       "      <td>145.259995</td>\n",
       "      <td>149.639999</td>\n",
       "      <td>148.957520</td>\n",
       "    </tr>\n",
       "    <tr>\n",
       "      <th>2022-06-05</th>\n",
       "      <td>149.899994</td>\n",
       "      <td>151.740005</td>\n",
       "      <td>147.679993</td>\n",
       "      <td>151.210007</td>\n",
       "      <td>150.520370</td>\n",
       "    </tr>\n",
       "    <tr>\n",
       "      <th>2022-06-12</th>\n",
       "      <td>148.580002</td>\n",
       "      <td>149.869995</td>\n",
       "      <td>147.460007</td>\n",
       "      <td>148.710007</td>\n",
       "      <td>148.031769</td>\n",
       "    </tr>\n",
       "    <tr>\n",
       "      <th>2022-06-19</th>\n",
       "      <td>134.289993</td>\n",
       "      <td>137.339996</td>\n",
       "      <td>132.160004</td>\n",
       "      <td>135.429993</td>\n",
       "      <td>134.812317</td>\n",
       "    </tr>\n",
       "    <tr>\n",
       "      <th>2022-06-26</th>\n",
       "      <td>139.899994</td>\n",
       "      <td>141.910004</td>\n",
       "      <td>139.770004</td>\n",
       "      <td>141.660004</td>\n",
       "      <td>141.013931</td>\n",
       "    </tr>\n",
       "    <tr>\n",
       "      <th>2022-07-03</th>\n",
       "      <td>142.699997</td>\n",
       "      <td>143.490005</td>\n",
       "      <td>140.970001</td>\n",
       "      <td>141.660004</td>\n",
       "      <td>141.013931</td>\n",
       "    </tr>\n",
       "    <tr>\n",
       "      <th>2022-07-10</th>\n",
       "      <td>145.259995</td>\n",
       "      <td>147.550003</td>\n",
       "      <td>145.000000</td>\n",
       "      <td>147.039993</td>\n",
       "      <td>146.369370</td>\n",
       "    </tr>\n",
       "    <tr>\n",
       "      <th>2022-07-17</th>\n",
       "      <td>149.779999</td>\n",
       "      <td>150.860001</td>\n",
       "      <td>148.199997</td>\n",
       "      <td>150.169998</td>\n",
       "      <td>149.485092</td>\n",
       "    </tr>\n",
       "    <tr>\n",
       "      <th>2022-07-24</th>\n",
       "      <td>155.389999</td>\n",
       "      <td>156.279999</td>\n",
       "      <td>153.410004</td>\n",
       "      <td>155.350006</td>\n",
       "      <td>154.641479</td>\n",
       "    </tr>\n",
       "    <tr>\n",
       "      <th>2022-07-31</th>\n",
       "      <td>161.240005</td>\n",
       "      <td>163.630005</td>\n",
       "      <td>159.500000</td>\n",
       "      <td>162.509995</td>\n",
       "      <td>161.768814</td>\n",
       "    </tr>\n",
       "    <tr>\n",
       "      <th>2022-08-07</th>\n",
       "      <td>166.009995</td>\n",
       "      <td>167.190002</td>\n",
       "      <td>164.429993</td>\n",
       "      <td>166.130005</td>\n",
       "      <td>165.372330</td>\n",
       "    </tr>\n",
       "    <tr>\n",
       "      <th>2022-08-14</th>\n",
       "      <td>170.059998</td>\n",
       "      <td>172.169998</td>\n",
       "      <td>169.399994</td>\n",
       "      <td>172.100006</td>\n",
       "      <td>171.553055</td>\n",
       "    </tr>\n",
       "    <tr>\n",
       "      <th>2022-08-21</th>\n",
       "      <td>173.750000</td>\n",
       "      <td>176.149994</td>\n",
       "      <td>173.119995</td>\n",
       "      <td>174.550003</td>\n",
       "      <td>173.995270</td>\n",
       "    </tr>\n",
       "    <tr>\n",
       "      <th>2022-08-28</th>\n",
       "      <td>170.570007</td>\n",
       "      <td>171.050003</td>\n",
       "      <td>168.350006</td>\n",
       "      <td>170.029999</td>\n",
       "      <td>169.489624</td>\n",
       "    </tr>\n",
       "    <tr>\n",
       "      <th>2022-09-04</th>\n",
       "      <td>162.130005</td>\n",
       "      <td>162.899994</td>\n",
       "      <td>159.820007</td>\n",
       "      <td>161.380005</td>\n",
       "      <td>160.867111</td>\n",
       "    </tr>\n",
       "    <tr>\n",
       "      <th>2022-09-11</th>\n",
       "      <td>156.470001</td>\n",
       "      <td>157.820007</td>\n",
       "      <td>154.750000</td>\n",
       "      <td>157.369995</td>\n",
       "      <td>156.869858</td>\n",
       "    </tr>\n",
       "    <tr>\n",
       "      <th>2022-09-18</th>\n",
       "      <td>159.899994</td>\n",
       "      <td>164.259995</td>\n",
       "      <td>159.300003</td>\n",
       "      <td>163.429993</td>\n",
       "      <td>162.910599</td>\n",
       "    </tr>\n",
       "    <tr>\n",
       "      <th>2022-09-25</th>\n",
       "      <td>157.339996</td>\n",
       "      <td>158.740005</td>\n",
       "      <td>153.600006</td>\n",
       "      <td>156.899994</td>\n",
       "      <td>156.401352</td>\n",
       "    </tr>\n",
       "    <tr>\n",
       "      <th>2022-10-02</th>\n",
       "      <td>152.740005</td>\n",
       "      <td>154.720001</td>\n",
       "      <td>149.949997</td>\n",
       "      <td>151.759995</td>\n",
       "      <td>151.277695</td>\n",
       "    </tr>\n",
       "    <tr>\n",
       "      <th>2022-10-09</th>\n",
       "      <td>145.809998</td>\n",
       "      <td>147.539993</td>\n",
       "      <td>145.220001</td>\n",
       "      <td>146.399994</td>\n",
       "      <td>145.934723</td>\n",
       "    </tr>\n",
       "    <tr>\n",
       "      <th>2022-10-16</th>\n",
       "      <td>144.309998</td>\n",
       "      <td>144.520004</td>\n",
       "      <td>138.570007</td>\n",
       "      <td>142.990005</td>\n",
       "      <td>142.535568</td>\n",
       "    </tr>\n",
       "    <tr>\n",
       "      <th>2022-10-23</th>\n",
       "      <td>145.490005</td>\n",
       "      <td>147.850006</td>\n",
       "      <td>142.649994</td>\n",
       "      <td>147.270004</td>\n",
       "      <td>146.801956</td>\n",
       "    </tr>\n",
       "    <tr>\n",
       "      <th>2022-10-30</th>\n",
       "      <td>150.960007</td>\n",
       "      <td>157.500000</td>\n",
       "      <td>149.360001</td>\n",
       "      <td>155.740005</td>\n",
       "      <td>155.245056</td>\n",
       "    </tr>\n",
       "    <tr>\n",
       "      <th>2022-11-06</th>\n",
       "      <td>155.080002</td>\n",
       "      <td>155.449997</td>\n",
       "      <td>151.919998</td>\n",
       "      <td>153.339996</td>\n",
       "      <td>152.852676</td>\n",
       "    </tr>\n",
       "    <tr>\n",
       "      <th>2022-11-13</th>\n",
       "      <td>145.820007</td>\n",
       "      <td>150.009995</td>\n",
       "      <td>144.369995</td>\n",
       "      <td>149.699997</td>\n",
       "      <td>149.471771</td>\n",
       "    </tr>\n",
       "    <tr>\n",
       "      <th>2022-11-20</th>\n",
       "      <td>152.309998</td>\n",
       "      <td>153.589996</td>\n",
       "      <td>149.970001</td>\n",
       "      <td>151.289993</td>\n",
       "      <td>151.059357</td>\n",
       "    </tr>\n",
       "    <tr>\n",
       "      <th>2022-11-27</th>\n",
       "      <td>150.160004</td>\n",
       "      <td>151.830002</td>\n",
       "      <td>149.339996</td>\n",
       "      <td>151.070007</td>\n",
       "      <td>150.839706</td>\n",
       "    </tr>\n",
       "    <tr>\n",
       "      <th>2022-12-04</th>\n",
       "      <td>148.210007</td>\n",
       "      <td>149.130005</td>\n",
       "      <td>146.610001</td>\n",
       "      <td>148.309998</td>\n",
       "      <td>148.083893</td>\n",
       "    </tr>\n",
       "    <tr>\n",
       "      <th>2022-12-11</th>\n",
       "      <td>147.770004</td>\n",
       "      <td>150.919998</td>\n",
       "      <td>145.770004</td>\n",
       "      <td>146.630005</td>\n",
       "      <td>146.406464</td>\n",
       "    </tr>\n",
       "    <tr>\n",
       "      <th>2022-12-18</th>\n",
       "      <td>149.500000</td>\n",
       "      <td>149.970001</td>\n",
       "      <td>144.240005</td>\n",
       "      <td>145.470001</td>\n",
       "      <td>145.248230</td>\n",
       "    </tr>\n",
       "    <tr>\n",
       "      <th>2022-12-25</th>\n",
       "      <td>135.110001</td>\n",
       "      <td>136.809998</td>\n",
       "      <td>132.750000</td>\n",
       "      <td>135.449997</td>\n",
       "      <td>135.243500</td>\n",
       "    </tr>\n",
       "    <tr>\n",
       "      <th>2023-01-01</th>\n",
       "      <td>131.380005</td>\n",
       "      <td>131.410004</td>\n",
       "      <td>128.720001</td>\n",
       "      <td>130.029999</td>\n",
       "      <td>129.831772</td>\n",
       "    </tr>\n",
       "    <tr>\n",
       "      <th>2023-01-08</th>\n",
       "      <td>130.279999</td>\n",
       "      <td>130.899994</td>\n",
       "      <td>125.080002</td>\n",
       "      <td>129.619995</td>\n",
       "      <td>129.422394</td>\n",
       "    </tr>\n",
       "    <tr>\n",
       "      <th>2023-01-15</th>\n",
       "      <td>133.880005</td>\n",
       "      <td>134.919998</td>\n",
       "      <td>131.660004</td>\n",
       "      <td>134.759995</td>\n",
       "      <td>134.554550</td>\n",
       "    </tr>\n",
       "    <tr>\n",
       "      <th>2023-01-22</th>\n",
       "      <td>136.820007</td>\n",
       "      <td>138.610001</td>\n",
       "      <td>135.029999</td>\n",
       "      <td>137.869995</td>\n",
       "      <td>137.659805</td>\n",
       "    </tr>\n",
       "    <tr>\n",
       "      <th>2023-01-29</th>\n",
       "      <td>143.169998</td>\n",
       "      <td>147.229996</td>\n",
       "      <td>143.080002</td>\n",
       "      <td>145.929993</td>\n",
       "      <td>145.707520</td>\n",
       "    </tr>\n",
       "    <tr>\n",
       "      <th>2023-02-05</th>\n",
       "      <td>148.899994</td>\n",
       "      <td>157.380005</td>\n",
       "      <td>148.169998</td>\n",
       "      <td>154.500000</td>\n",
       "      <td>154.264465</td>\n",
       "    </tr>\n",
       "    <tr>\n",
       "      <th>2023-02-12</th>\n",
       "      <td>153.880005</td>\n",
       "      <td>155.229996</td>\n",
       "      <td>151.169998</td>\n",
       "      <td>154.649994</td>\n",
       "      <td>154.414230</td>\n",
       "    </tr>\n",
       "    <tr>\n",
       "      <th>2023-02-19</th>\n",
       "      <td>153.509995</td>\n",
       "      <td>156.330002</td>\n",
       "      <td>153.350006</td>\n",
       "      <td>155.330002</td>\n",
       "      <td>155.330002</td>\n",
       "    </tr>\n",
       "    <tr>\n",
       "      <th>2023-02-26</th>\n",
       "      <td>150.199997</td>\n",
       "      <td>151.300003</td>\n",
       "      <td>148.410004</td>\n",
       "      <td>149.399994</td>\n",
       "      <td>149.399994</td>\n",
       "    </tr>\n",
       "    <tr>\n",
       "      <th>2023-03-05</th>\n",
       "      <td>148.039993</td>\n",
       "      <td>151.110001</td>\n",
       "      <td>147.449997</td>\n",
       "      <td>151.029999</td>\n",
       "      <td>151.029999</td>\n",
       "    </tr>\n",
       "    <tr>\n",
       "      <th>2023-03-12</th>\n",
       "      <td>153.789993</td>\n",
       "      <td>156.300003</td>\n",
       "      <td>153.460007</td>\n",
       "      <td>153.830002</td>\n",
       "      <td>153.830002</td>\n",
       "    </tr>\n",
       "    <tr>\n",
       "      <th>2023-03-19</th>\n",
       "      <td>156.080002</td>\n",
       "      <td>156.740005</td>\n",
       "      <td>154.279999</td>\n",
       "      <td>155.850006</td>\n",
       "      <td>155.850006</td>\n",
       "    </tr>\n",
       "    <tr>\n",
       "      <th>2023-03-26</th>\n",
       "      <td>159.300003</td>\n",
       "      <td>162.139999</td>\n",
       "      <td>157.850006</td>\n",
       "      <td>160.250000</td>\n",
       "      <td>160.250000</td>\n",
       "    </tr>\n",
       "    <tr>\n",
       "      <th>2023-04-02</th>\n",
       "      <td>162.440002</td>\n",
       "      <td>165.000000</td>\n",
       "      <td>161.910004</td>\n",
       "      <td>164.899994</td>\n",
       "      <td>164.899994</td>\n",
       "    </tr>\n",
       "    <tr>\n",
       "      <th>2023-04-09</th>\n",
       "      <td>166.600006</td>\n",
       "      <td>166.839996</td>\n",
       "      <td>165.110001</td>\n",
       "      <td>166.169998</td>\n",
       "      <td>166.169998</td>\n",
       "    </tr>\n",
       "    <tr>\n",
       "      <th>2023-04-16</th>\n",
       "      <td>164.589996</td>\n",
       "      <td>166.320007</td>\n",
       "      <td>163.820007</td>\n",
       "      <td>165.559998</td>\n",
       "      <td>165.559998</td>\n",
       "    </tr>\n",
       "    <tr>\n",
       "      <th>2023-04-23</th>\n",
       "      <td>166.100006</td>\n",
       "      <td>168.160004</td>\n",
       "      <td>165.649994</td>\n",
       "      <td>167.630005</td>\n",
       "      <td>167.630005</td>\n",
       "    </tr>\n",
       "    <tr>\n",
       "      <th>2023-04-30</th>\n",
       "      <td>168.490005</td>\n",
       "      <td>169.850006</td>\n",
       "      <td>167.880005</td>\n",
       "      <td>169.679993</td>\n",
       "      <td>169.679993</td>\n",
       "    </tr>\n",
       "    <tr>\n",
       "      <th>2023-05-07</th>\n",
       "      <td>170.979996</td>\n",
       "      <td>174.300003</td>\n",
       "      <td>170.759995</td>\n",
       "      <td>173.570007</td>\n",
       "      <td>173.570007</td>\n",
       "    </tr>\n",
       "  </tbody>\n",
       "</table>\n",
       "</div>"
      ],
      "text/plain": [
       "                  Open        High         Low       Close   Adj Close\n",
       "Date                                                                  \n",
       "2022-05-08  156.009995  159.440002  154.179993  157.279999  156.562668\n",
       "2022-05-15  155.520004  156.740005  152.929993  154.509995  153.805298\n",
       "2022-05-22  148.860001  149.770004  146.679993  149.240005  148.559341\n",
       "2022-05-29  145.389999  149.679993  145.259995  149.639999  148.957520\n",
       "2022-06-05  149.899994  151.740005  147.679993  151.210007  150.520370\n",
       "2022-06-12  148.580002  149.869995  147.460007  148.710007  148.031769\n",
       "2022-06-19  134.289993  137.339996  132.160004  135.429993  134.812317\n",
       "2022-06-26  139.899994  141.910004  139.770004  141.660004  141.013931\n",
       "2022-07-03  142.699997  143.490005  140.970001  141.660004  141.013931\n",
       "2022-07-10  145.259995  147.550003  145.000000  147.039993  146.369370\n",
       "2022-07-17  149.779999  150.860001  148.199997  150.169998  149.485092\n",
       "2022-07-24  155.389999  156.279999  153.410004  155.350006  154.641479\n",
       "2022-07-31  161.240005  163.630005  159.500000  162.509995  161.768814\n",
       "2022-08-07  166.009995  167.190002  164.429993  166.130005  165.372330\n",
       "2022-08-14  170.059998  172.169998  169.399994  172.100006  171.553055\n",
       "2022-08-21  173.750000  176.149994  173.119995  174.550003  173.995270\n",
       "2022-08-28  170.570007  171.050003  168.350006  170.029999  169.489624\n",
       "2022-09-04  162.130005  162.899994  159.820007  161.380005  160.867111\n",
       "2022-09-11  156.470001  157.820007  154.750000  157.369995  156.869858\n",
       "2022-09-18  159.899994  164.259995  159.300003  163.429993  162.910599\n",
       "2022-09-25  157.339996  158.740005  153.600006  156.899994  156.401352\n",
       "2022-10-02  152.740005  154.720001  149.949997  151.759995  151.277695\n",
       "2022-10-09  145.809998  147.539993  145.220001  146.399994  145.934723\n",
       "2022-10-16  144.309998  144.520004  138.570007  142.990005  142.535568\n",
       "2022-10-23  145.490005  147.850006  142.649994  147.270004  146.801956\n",
       "2022-10-30  150.960007  157.500000  149.360001  155.740005  155.245056\n",
       "2022-11-06  155.080002  155.449997  151.919998  153.339996  152.852676\n",
       "2022-11-13  145.820007  150.009995  144.369995  149.699997  149.471771\n",
       "2022-11-20  152.309998  153.589996  149.970001  151.289993  151.059357\n",
       "2022-11-27  150.160004  151.830002  149.339996  151.070007  150.839706\n",
       "2022-12-04  148.210007  149.130005  146.610001  148.309998  148.083893\n",
       "2022-12-11  147.770004  150.919998  145.770004  146.630005  146.406464\n",
       "2022-12-18  149.500000  149.970001  144.240005  145.470001  145.248230\n",
       "2022-12-25  135.110001  136.809998  132.750000  135.449997  135.243500\n",
       "2023-01-01  131.380005  131.410004  128.720001  130.029999  129.831772\n",
       "2023-01-08  130.279999  130.899994  125.080002  129.619995  129.422394\n",
       "2023-01-15  133.880005  134.919998  131.660004  134.759995  134.554550\n",
       "2023-01-22  136.820007  138.610001  135.029999  137.869995  137.659805\n",
       "2023-01-29  143.169998  147.229996  143.080002  145.929993  145.707520\n",
       "2023-02-05  148.899994  157.380005  148.169998  154.500000  154.264465\n",
       "2023-02-12  153.880005  155.229996  151.169998  154.649994  154.414230\n",
       "2023-02-19  153.509995  156.330002  153.350006  155.330002  155.330002\n",
       "2023-02-26  150.199997  151.300003  148.410004  149.399994  149.399994\n",
       "2023-03-05  148.039993  151.110001  147.449997  151.029999  151.029999\n",
       "2023-03-12  153.789993  156.300003  153.460007  153.830002  153.830002\n",
       "2023-03-19  156.080002  156.740005  154.279999  155.850006  155.850006\n",
       "2023-03-26  159.300003  162.139999  157.850006  160.250000  160.250000\n",
       "2023-04-02  162.440002  165.000000  161.910004  164.899994  164.899994\n",
       "2023-04-09  166.600006  166.839996  165.110001  166.169998  166.169998\n",
       "2023-04-16  164.589996  166.320007  163.820007  165.559998  165.559998\n",
       "2023-04-23  166.100006  168.160004  165.649994  167.630005  167.630005\n",
       "2023-04-30  168.490005  169.850006  167.880005  169.679993  169.679993\n",
       "2023-05-07  170.979996  174.300003  170.759995  173.570007  173.570007"
      ]
     },
     "execution_count": 6,
     "metadata": {},
     "output_type": "execute_result"
    }
   ],
   "source": [
    "df.iloc[:,:-1].resample(\"W\").max()"
   ]
  },
  {
   "cell_type": "code",
   "execution_count": 39,
   "id": "de385147",
   "metadata": {},
   "outputs": [
    {
     "data": {
      "text/plain": [
       "<AxesSubplot:xlabel='Date'>"
      ]
     },
     "execution_count": 39,
     "metadata": {},
     "output_type": "execute_result"
    },
    {
     "data": {
      "image/png": "[encoded data removed]",
      "text/plain": [
       "<Figure size 640x480 with 1 Axes>"
      ]
     },
     "metadata": {},
     "output_type": "display_data"
    }
   ],
   "source": [
    "df.iloc[:,:-1].resample(\"W\").max().plot(kind = 'line')"
   ]
  },
  {
   "cell_type": "markdown",
   "id": "9f01449f",
   "metadata": {},
   "source": [
    "# date_range"
   ]
  },
  {
   "cell_type": "code",
   "execution_count": 33,
   "id": "a387afbb",
   "metadata": {},
   "outputs": [
    {
     "data": {
      "text/plain": [
       "(15, 6)"
      ]
     },
     "execution_count": 33,
     "metadata": {},
     "output_type": "execute_result"
    }
   ],
   "source": [
    "# def remove_date(name):\n",
    "#     if name != \"Date\":\n",
    "#         return True\n",
    "#     return False\n",
    "           \n",
    "df2 = pd.read_csv(\"AAPL.csv\", parse_dates=['Date'])#,index_col=) #, usecols = remove_date)\n",
    "df2= df2[df2.Date.between(\"2023-04-10\",\"2023-04-30\",inclusive='both')].reset_index().drop('Date,index'.split(','), axis =1)\n",
    "df2.head() # Date from 10th April to 30th April - No business holidays in between\n",
    "df2.shape"
   ]
  },
  {
   "cell_type": "code",
   "execution_count": 34,
   "id": "03372f70",
   "metadata": {},
   "outputs": [
    {
     "data": {
      "text/plain": [
       "(15,)"
      ]
     },
     "execution_count": 34,
     "metadata": {},
     "output_type": "execute_result"
    }
   ],
   "source": [
    "index = pd.date_range(start=\"2023-04-10\", end=\"2023-04-30\", freq=\"B\")\n",
    "index.shape"
   ]
  },
  {
   "cell_type": "code",
   "execution_count": 35,
   "id": "433e81b9",
   "metadata": {},
   "outputs": [
    {
     "data": {
      "text/html": [
       "<div>\n",
       "<style scoped>\n",
       "    .dataframe tbody tr th:only-of-type {\n",
       "        vertical-align: middle;\n",
       "    }\n",
       "\n",
       "    .dataframe tbody tr th {\n",
       "        vertical-align: top;\n",
       "    }\n",
       "\n",
       "    .dataframe thead th {\n",
       "        text-align: right;\n",
       "    }\n",
       "</style>\n",
       "<table border=\"1\" class=\"dataframe\">\n",
       "  <thead>\n",
       "    <tr style=\"text-align: right;\">\n",
       "      <th></th>\n",
       "      <th>Open</th>\n",
       "      <th>High</th>\n",
       "      <th>Low</th>\n",
       "      <th>Close</th>\n",
       "      <th>Adj Close</th>\n",
       "      <th>Volume</th>\n",
       "    </tr>\n",
       "  </thead>\n",
       "  <tbody>\n",
       "    <tr>\n",
       "      <th>2023-04-10</th>\n",
       "      <td>161.419998</td>\n",
       "      <td>162.029999</td>\n",
       "      <td>160.080002</td>\n",
       "      <td>162.029999</td>\n",
       "      <td>162.029999</td>\n",
       "      <td>47716900</td>\n",
       "    </tr>\n",
       "    <tr>\n",
       "      <th>2023-04-11</th>\n",
       "      <td>162.350006</td>\n",
       "      <td>162.360001</td>\n",
       "      <td>160.509995</td>\n",
       "      <td>160.800003</td>\n",
       "      <td>160.800003</td>\n",
       "      <td>47644200</td>\n",
       "    </tr>\n",
       "    <tr>\n",
       "      <th>2023-04-12</th>\n",
       "      <td>161.220001</td>\n",
       "      <td>162.059998</td>\n",
       "      <td>159.779999</td>\n",
       "      <td>160.100006</td>\n",
       "      <td>160.100006</td>\n",
       "      <td>50133100</td>\n",
       "    </tr>\n",
       "    <tr>\n",
       "      <th>2023-04-13</th>\n",
       "      <td>161.630005</td>\n",
       "      <td>165.800003</td>\n",
       "      <td>161.419998</td>\n",
       "      <td>165.559998</td>\n",
       "      <td>165.559998</td>\n",
       "      <td>68445600</td>\n",
       "    </tr>\n",
       "    <tr>\n",
       "      <th>2023-04-14</th>\n",
       "      <td>164.589996</td>\n",
       "      <td>166.320007</td>\n",
       "      <td>163.820007</td>\n",
       "      <td>165.210007</td>\n",
       "      <td>165.210007</td>\n",
       "      <td>49337200</td>\n",
       "    </tr>\n",
       "  </tbody>\n",
       "</table>\n",
       "</div>"
      ],
      "text/plain": [
       "                  Open        High         Low       Close   Adj Close  \\\n",
       "2023-04-10  161.419998  162.029999  160.080002  162.029999  162.029999   \n",
       "2023-04-11  162.350006  162.360001  160.509995  160.800003  160.800003   \n",
       "2023-04-12  161.220001  162.059998  159.779999  160.100006  160.100006   \n",
       "2023-04-13  161.630005  165.800003  161.419998  165.559998  165.559998   \n",
       "2023-04-14  164.589996  166.320007  163.820007  165.210007  165.210007   \n",
       "\n",
       "              Volume  \n",
       "2023-04-10  47716900  \n",
       "2023-04-11  47644200  \n",
       "2023-04-12  50133100  \n",
       "2023-04-13  68445600  \n",
       "2023-04-14  49337200  "
      ]
     },
     "execution_count": 35,
     "metadata": {},
     "output_type": "execute_result"
    }
   ],
   "source": [
    "df2.index = index\n",
    "df2.head()"
   ]
  },
  {
   "cell_type": "code",
   "execution_count": 44,
   "id": "4b30dcf3",
   "metadata": {},
   "outputs": [
    {
     "data": {
      "text/plain": [
       "2023-04-10    162.029999\n",
       "2023-04-11    160.800003\n",
       "2023-04-12    160.100006\n",
       "2023-04-13    165.559998\n",
       "2023-04-14    165.210007\n",
       "2023-04-17    165.229996\n",
       "2023-04-18    166.470001\n",
       "2023-04-19    167.630005\n",
       "2023-04-20    166.649994\n",
       "2023-04-21    165.020004\n",
       "2023-04-24    165.330002\n",
       "2023-04-25    163.770004\n",
       "2023-04-26    163.759995\n",
       "2023-04-27    168.410004\n",
       "2023-04-28    169.679993\n",
       "Freq: B, Name: Close, dtype: float64"
      ]
     },
     "execution_count": 44,
     "metadata": {},
     "output_type": "execute_result"
    }
   ],
   "source": [
    "df2.Close"
   ]
  },
  {
   "cell_type": "code",
   "execution_count": 48,
   "id": "4ab8fc43",
   "metadata": {},
   "outputs": [
    {
     "data": {
      "text/html": [
       "<div>\n",
       "<style scoped>\n",
       "    .dataframe tbody tr th:only-of-type {\n",
       "        vertical-align: middle;\n",
       "    }\n",
       "\n",
       "    .dataframe tbody tr th {\n",
       "        vertical-align: top;\n",
       "    }\n",
       "\n",
       "    .dataframe thead th {\n",
       "        text-align: right;\n",
       "    }\n",
       "</style>\n",
       "<table border=\"1\" class=\"dataframe\">\n",
       "  <thead>\n",
       "    <tr style=\"text-align: right;\">\n",
       "      <th></th>\n",
       "      <th>Open</th>\n",
       "      <th>High</th>\n",
       "      <th>Low</th>\n",
       "      <th>Close</th>\n",
       "      <th>Adj Close</th>\n",
       "      <th>Volume</th>\n",
       "    </tr>\n",
       "  </thead>\n",
       "  <tbody>\n",
       "    <tr>\n",
       "      <th>2023-04-10</th>\n",
       "      <td>161.419998</td>\n",
       "      <td>162.029999</td>\n",
       "      <td>160.080002</td>\n",
       "      <td>162.029999</td>\n",
       "      <td>162.029999</td>\n",
       "      <td>47716900</td>\n",
       "    </tr>\n",
       "    <tr>\n",
       "      <th>2023-04-11</th>\n",
       "      <td>162.350006</td>\n",
       "      <td>162.360001</td>\n",
       "      <td>160.509995</td>\n",
       "      <td>160.800003</td>\n",
       "      <td>160.800003</td>\n",
       "      <td>47644200</td>\n",
       "    </tr>\n",
       "    <tr>\n",
       "      <th>2023-04-12</th>\n",
       "      <td>161.220001</td>\n",
       "      <td>162.059998</td>\n",
       "      <td>159.779999</td>\n",
       "      <td>160.100006</td>\n",
       "      <td>160.100006</td>\n",
       "      <td>50133100</td>\n",
       "    </tr>\n",
       "    <tr>\n",
       "      <th>2023-04-13</th>\n",
       "      <td>161.630005</td>\n",
       "      <td>165.800003</td>\n",
       "      <td>161.419998</td>\n",
       "      <td>165.559998</td>\n",
       "      <td>165.559998</td>\n",
       "      <td>68445600</td>\n",
       "    </tr>\n",
       "    <tr>\n",
       "      <th>2023-04-14</th>\n",
       "      <td>164.589996</td>\n",
       "      <td>166.320007</td>\n",
       "      <td>163.820007</td>\n",
       "      <td>165.210007</td>\n",
       "      <td>165.210007</td>\n",
       "      <td>49337200</td>\n",
       "    </tr>\n",
       "  </tbody>\n",
       "</table>\n",
       "</div>"
      ],
      "text/plain": [
       "                  Open        High         Low       Close   Adj Close  \\\n",
       "2023-04-10  161.419998  162.029999  160.080002  162.029999  162.029999   \n",
       "2023-04-11  162.350006  162.360001  160.509995  160.800003  160.800003   \n",
       "2023-04-12  161.220001  162.059998  159.779999  160.100006  160.100006   \n",
       "2023-04-13  161.630005  165.800003  161.419998  165.559998  165.559998   \n",
       "2023-04-14  164.589996  166.320007  163.820007  165.210007  165.210007   \n",
       "\n",
       "              Volume  \n",
       "2023-04-10  47716900  \n",
       "2023-04-11  47644200  \n",
       "2023-04-12  50133100  \n",
       "2023-04-13  68445600  \n",
       "2023-04-14  49337200  "
      ]
     },
     "execution_count": 48,
     "metadata": {},
     "output_type": "execute_result"
    }
   ],
   "source": [
    "df2.asfreq(\"D\", method=\"ffill\").head()"
   ]
  },
  {
   "cell_type": "code",
   "execution_count": 55,
   "id": "6d6d86da",
   "metadata": {},
   "outputs": [
    {
     "data": {
      "text/plain": [
       "DatetimeIndex(['2023-01-30', '2023-01-31', '2023-02-01', '2023-02-02',\n",
       "               '2023-02-03', '2023-02-06', '2023-02-07', '2023-02-08',\n",
       "               '2023-02-09', '2023-02-10', '2023-02-13', '2023-02-14',\n",
       "               '2023-02-15', '2023-02-16', '2023-02-17', '2023-02-20',\n",
       "               '2023-02-21', '2023-02-22', '2023-02-23', '2023-02-24',\n",
       "               '2023-02-27', '2023-02-28', '2023-03-01', '2023-03-02',\n",
       "               '2023-03-03', '2023-03-06', '2023-03-07', '2023-03-08',\n",
       "               '2023-03-09', '2023-03-10', '2023-03-13', '2023-03-14',\n",
       "               '2023-03-15', '2023-03-16', '2023-03-17', '2023-03-20',\n",
       "               '2023-03-21', '2023-03-22', '2023-03-23', '2023-03-24',\n",
       "               '2023-03-27', '2023-03-28', '2023-03-29', '2023-03-30',\n",
       "               '2023-03-31', '2023-04-03', '2023-04-04', '2023-04-05',\n",
       "               '2023-04-06', '2023-04-07', '2023-04-10', '2023-04-11',\n",
       "               '2023-04-12', '2023-04-13', '2023-04-14', '2023-04-17',\n",
       "               '2023-04-18', '2023-04-19', '2023-04-20', '2023-04-21',\n",
       "               '2023-04-24', '2023-04-25', '2023-04-26', '2023-04-27',\n",
       "               '2023-04-28', '2023-05-01', '2023-05-02', '2023-05-03',\n",
       "               '2023-05-04', '2023-05-05', '2023-05-08', '2023-05-09',\n",
       "               '2023-05-10', '2023-05-11', '2023-05-12', '2023-05-15',\n",
       "               '2023-05-16', '2023-05-17', '2023-05-18', '2023-05-19',\n",
       "               '2023-05-22', '2023-05-23', '2023-05-24', '2023-05-25',\n",
       "               '2023-05-26', '2023-05-29', '2023-05-30', '2023-05-31',\n",
       "               '2023-06-01', '2023-06-02', '2023-06-05', '2023-06-06',\n",
       "               '2023-06-07', '2023-06-08', '2023-06-09', '2023-06-12',\n",
       "               '2023-06-13', '2023-06-14', '2023-06-15', '2023-06-16'],\n",
       "              dtype='datetime64[ns]', freq='B')"
      ]
     },
     "execution_count": 55,
     "metadata": {},
     "output_type": "execute_result"
    }
   ],
   "source": [
    "index = pd.date_range(start='2023-01-30',periods=100, freq='B')\n",
    "index"
   ]
  },
  {
   "cell_type": "code",
   "execution_count": 58,
   "id": "9120634e",
   "metadata": {},
   "outputs": [
    {
     "data": {
      "text/plain": [
       "2023-01-30    8\n",
       "2023-01-31    3\n",
       "2023-02-01    8\n",
       "2023-02-02    7\n",
       "2023-02-03    7\n",
       "             ..\n",
       "2023-06-12    8\n",
       "2023-06-13    6\n",
       "2023-06-14    5\n",
       "2023-06-15    9\n",
       "2023-06-16    9\n",
       "Freq: B, Name: Time, Length: 100, dtype: int32"
      ]
     },
     "execution_count": 58,
     "metadata": {},
     "output_type": "execute_result"
    }
   ],
   "source": [
    "import numpy as np\n",
    "ts = pd.Series(data = np.random.randint(1,10,len(index)), index= index, name = 'Time')\n",
    "ts"
   ]
  },
  {
   "cell_type": "markdown",
   "id": "4f2ed24d",
   "metadata": {},
   "source": [
    "# Pandas Holidays - to cover separately"
   ]
  },
  {
   "cell_type": "code",
   "execution_count": 65,
   "id": "06c48ab5",
   "metadata": {},
   "outputs": [
    {
     "data": {
      "text/plain": [
       "(20, 5)"
      ]
     },
     "execution_count": 65,
     "metadata": {},
     "output_type": "execute_result"
    }
   ],
   "source": [
    "df = pd.read_csv(\"AAPL.csv\", usecols=lambda x: True if x not in \"Date,Adj Close\".split(',') else False)\n",
    "df = df.iloc[:20]\n",
    "df.shape"
   ]
  },
  {
   "cell_type": "markdown",
   "id": "93272135",
   "metadata": {},
   "source": [
    "# to_datetime"
   ]
  },
  {
   "cell_type": "code",
   "execution_count": 11,
   "id": "264d0a05",
   "metadata": {},
   "outputs": [
    {
     "data": {
      "text/plain": [
       "DatetimeIndex(['2017-01-05', '2017-01-05', '2017-01-05', '2017-01-05',\n",
       "               '2017-01-05', '2017-01-05'],\n",
       "              dtype='datetime64[ns]', freq=None)"
      ]
     },
     "execution_count": 11,
     "metadata": {},
     "output_type": "execute_result"
    }
   ],
   "source": [
    "dates = '2017-01-05,Jan 5. 2017,01/05/2017,2017.01.05,2017/01/05,20170105'.split(\",\") # alll represent 15 Jan 2017)\n",
    "pd.to_datetime(dates)"
   ]
  },
  {
   "cell_type": "code",
   "execution_count": 17,
   "id": "208ae2c4",
   "metadata": {},
   "outputs": [
    {
     "data": {
      "text/plain": [
       "Timestamp('2017-01-05 00:00:00')"
      ]
     },
     "execution_count": 17,
     "metadata": {},
     "output_type": "execute_result"
    }
   ],
   "source": [
    "custom_date = '05$01%2017'\n",
    "pd.to_datetime(custom_date, format = '%d$%m%%%Y')"
   ]
  },
  {
   "cell_type": "code",
   "execution_count": 16,
   "id": "7fe8fd91",
   "metadata": {},
   "outputs": [],
   "source": [
    "t = 1683374059 #Epoch time"
   ]
  },
  {
   "cell_type": "code",
   "execution_count": 19,
   "id": "30d90824",
   "metadata": {},
   "outputs": [
    {
     "data": {
      "text/plain": [
       "Timestamp('2023-05-06 11:54:19')"
      ]
     },
     "execution_count": 19,
     "metadata": {},
     "output_type": "execute_result"
    }
   ],
   "source": [
    "pd.to_datetime(t, unit='s')"
   ]
  },
  {
   "cell_type": "markdown",
   "id": "5244e44b",
   "metadata": {},
   "source": [
    "# period and periodindex"
   ]
  },
  {
   "cell_type": "code",
   "execution_count": 25,
   "id": "01071ef8",
   "metadata": {},
   "outputs": [
    {
     "data": {
      "text/plain": [
       "Period('2023', 'A-DEC')"
      ]
     },
     "execution_count": 25,
     "metadata": {},
     "output_type": "execute_result"
    }
   ],
   "source": [
    "y = pd.Period('2023')\n",
    "y"
   ]
  },
  {
   "cell_type": "code",
   "execution_count": 30,
   "id": "8ccb54c0",
   "metadata": {},
   "outputs": [
    {
     "data": {
      "text/plain": [
       "Timestamp('2023-12-31 23:59:59.999999999')"
      ]
     },
     "execution_count": 30,
     "metadata": {},
     "output_type": "execute_result"
    }
   ],
   "source": [
    "y.end_time"
   ]
  },
  {
   "cell_type": "code",
   "execution_count": 36,
   "id": "b2b24981",
   "metadata": {},
   "outputs": [
    {
     "data": {
      "text/plain": [
       "Period('2022-05', 'M')"
      ]
     },
     "execution_count": 36,
     "metadata": {},
     "output_type": "execute_result"
    }
   ],
   "source": [
    "m = pd.Period('2022-05')\n",
    "m"
   ]
  },
  {
   "cell_type": "code",
   "execution_count": 32,
   "id": "71af6b9f",
   "metadata": {},
   "outputs": [
    {
     "data": {
      "text/plain": [
       "Timestamp('2022-05-01 00:00:00')"
      ]
     },
     "execution_count": 32,
     "metadata": {},
     "output_type": "execute_result"
    }
   ],
   "source": [
    "m.start_time"
   ]
  },
  {
   "cell_type": "code",
   "execution_count": 33,
   "id": "c5813027",
   "metadata": {},
   "outputs": [
    {
     "data": {
      "text/plain": [
       "Timestamp('2022-05-31 23:59:59.999999999')"
      ]
     },
     "execution_count": 33,
     "metadata": {},
     "output_type": "execute_result"
    }
   ],
   "source": [
    "m.end_time"
   ]
  },
  {
   "cell_type": "code",
   "execution_count": 38,
   "id": "32345aab",
   "metadata": {},
   "outputs": [
    {
     "ename": "AttributeError",
     "evalue": "module 'pandas.tseries.offsets' has no attribute 'Month'",
     "output_type": "error",
     "traceback": [
      "\u001b[1;31m---------------------------------------------------------------------------\u001b[0m",
      "\u001b[1;31mAttributeError\u001b[0m                            Traceback (most recent call last)",
      "Cell \u001b[1;32mIn[38], line 1\u001b[0m\n\u001b[1;32m----> 1\u001b[0m m \u001b[38;5;241m+\u001b[39m \u001b[43mpd\u001b[49m\u001b[38;5;241;43m.\u001b[39;49m\u001b[43moffsets\u001b[49m\u001b[38;5;241;43m.\u001b[39;49m\u001b[43mMonth\u001b[49m(\u001b[38;5;241m10\u001b[39m)\n",
      "\u001b[1;31mAttributeError\u001b[0m: module 'pandas.tseries.offsets' has no attribute 'Month'"
     ]
    }
   ],
   "source": [
    "m + pd.offsets.Month(10)"
   ]
  },
  {
   "cell_type": "code",
   "execution_count": 43,
   "id": "f29da9e6",
   "metadata": {},
   "outputs": [
    {
     "data": {
      "text/plain": [
       "Period('2023Q1', 'Q-MAR')"
      ]
     },
     "execution_count": 43,
     "metadata": {},
     "output_type": "execute_result"
    }
   ],
   "source": [
    "q = pd.Period(\"2023Q1\", freq='Q-Mar')\n",
    "q"
   ]
  },
  {
   "cell_type": "code",
   "execution_count": 44,
   "id": "62498d09",
   "metadata": {},
   "outputs": [
    {
     "data": {
      "text/plain": [
       "Timestamp('2022-04-01 00:00:00')"
      ]
     },
     "execution_count": 44,
     "metadata": {},
     "output_type": "execute_result"
    }
   ],
   "source": [
    "q.start_time"
   ]
  },
  {
   "cell_type": "code",
   "execution_count": 45,
   "id": "d23ef964",
   "metadata": {},
   "outputs": [
    {
     "data": {
      "text/plain": [
       "Timestamp('2022-06-30 23:59:59.999999999')"
      ]
     },
     "execution_count": 45,
     "metadata": {},
     "output_type": "execute_result"
    }
   ],
   "source": [
    "q.end_time"
   ]
  },
  {
   "cell_type": "code",
   "execution_count": 46,
   "id": "83801270",
   "metadata": {},
   "outputs": [
    {
     "data": {
      "text/plain": [
       "Period('2022-04', 'M')"
      ]
     },
     "execution_count": 46,
     "metadata": {},
     "output_type": "execute_result"
    }
   ],
   "source": [
    "q.asfreq(\"M\", how = \"start\")"
   ]
  },
  {
   "cell_type": "markdown",
   "id": "a8773ac3",
   "metadata": {},
   "source": [
    "# Period range"
   ]
  },
  {
   "cell_type": "code",
   "execution_count": 55,
   "id": "29959ee2",
   "metadata": {},
   "outputs": [
    {
     "data": {
      "text/plain": [
       "PeriodIndex(['2019Q4', '2020Q1', '2020Q2', '2020Q3', '2020Q4', '2021Q1',\n",
       "             '2021Q2', '2021Q3', '2021Q4', '2022Q1', '2022Q2', '2022Q3',\n",
       "             '2022Q4', '2023Q1', '2023Q2', '2023Q3', '2023Q4'],\n",
       "            dtype='period[Q-MAR]')"
      ]
     },
     "execution_count": 55,
     "metadata": {},
     "output_type": "execute_result"
    }
   ],
   "source": [
    "idx = pd.period_range('2019','2023',freq=\"Q-MAR\")\n",
    "idx"
   ]
  },
  {
   "cell_type": "code",
   "execution_count": null,
   "id": "c66cc7d7",
   "metadata": {},
   "outputs": [],
   "source": []
  },
  {
   "cell_type": "code",
   "execution_count": null,
   "id": "69b80446",
   "metadata": {},
   "outputs": [],
   "source": []
  },
  {
   "cell_type": "code",
   "execution_count": null,
   "id": "51327c2b",
   "metadata": {},
   "outputs": [],
   "source": []
  },
  {
   "cell_type": "code",
   "execution_count": null,
   "id": "9ad5e8c1",
   "metadata": {},
   "outputs": [],
   "source": []
  },
  {
   "cell_type": "code",
   "execution_count": null,
   "id": "d8a86a08",
   "metadata": {},
   "outputs": [],
   "source": []
  },
  {
   "cell_type": "code",
   "execution_count": null,
   "id": "7cc7820c",
   "metadata": {},
   "outputs": [],
   "source": []
  },
  {
   "cell_type": "code",
   "execution_count": null,
   "id": "e4a4a89b",
   "metadata": {},
   "outputs": [],
   "source": []
  },
  {
   "cell_type": "code",
   "execution_count": null,
   "id": "5fe61433",
   "metadata": {},
   "outputs": [],
   "source": []
  },
  {
   "cell_type": "code",
   "execution_count": null,
   "id": "cfbe9056",
   "metadata": {},
   "outputs": [],
   "source": []
  },
  {
   "cell_type": "code",
   "execution_count": null,
   "id": "d143bfdf",
   "metadata": {},
   "outputs": [],
   "source": []
  },
  {
   "cell_type": "code",
   "execution_count": null,
   "id": "57641448",
   "metadata": {},
   "outputs": [],
   "source": []
  },
  {
   "cell_type": "code",
   "execution_count": null,
   "id": "499c04b7",
   "metadata": {},
   "outputs": [],
   "source": []
  },
  {
   "cell_type": "code",
   "execution_count": null,
   "id": "42f61ce5",
   "metadata": {},
   "outputs": [],
   "source": []
  },
  {
   "cell_type": "code",
   "execution_count": null,
   "id": "f84e962f",
   "metadata": {},
   "outputs": [],
   "source": []
  },
  {
   "cell_type": "code",
   "execution_count": null,
   "id": "683b07c6",
   "metadata": {},
   "outputs": [],
   "source": []
  },
  {
   "cell_type": "code",
   "execution_count": null,
   "id": "0019feef",
   "metadata": {},
   "outputs": [],
   "source": []
  }
 ],
 "metadata": {
  "kernelspec": {
   "display_name": "Python 3 (ipykernel)",
   "language": "python",
   "name": "python3"
  },
  "language_info": {
   "codemirror_mode": {
    "name": "ipython",
    "version": 3
   },
   "file_extension": ".py",
   "mimetype": "text/x-python",
   "name": "python",
   "nbconvert_exporter": "python",
   "pygments_lexer": "ipython3",
   "version": "3.10.11"
  }
 },
 "nbformat": 4,
 "nbformat_minor": 5
}
